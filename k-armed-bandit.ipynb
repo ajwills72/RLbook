{
 "cells": [
  {
   "cell_type": "code",
   "execution_count": 30,
   "metadata": {},
   "outputs": [
    {
     "name": "stdout",
     "output_type": "stream",
     "text": [
      "Help on Bandit in module __main__ object:\n",
      "\n",
      "class Bandit(builtins.object)\n",
      " |  Bandit(k, q_mean, q_var, R_var)\n",
      " |  \n",
      " |  k-armed bandit\n",
      " |  \n",
      " |      q_mean, q_var: mean, variance of normal distribution that\n",
      " |                     arm rewards are drawn from.\n",
      " |  \n",
      " |      R_var:         variance of normal, zero-mean, noise \n",
      " |                     distribution added to arm reward each trial.\n",
      " |  \n",
      " |  Methods defined here:\n",
      " |  \n",
      " |  __init__(self, k, q_mean, q_var, R_var)\n",
      " |      Initialise and create mean arm rewards.\n",
      " |  \n",
      " |  __str__(self)\n",
      " |      Print basic information about bandit.\n",
      " |  \n",
      " |  act(self, A)\n",
      " |      Return reward value for action A.\n",
      " |  \n",
      " |  ----------------------------------------------------------------------\n",
      " |  Data descriptors defined here:\n",
      " |  \n",
      " |  __dict__\n",
      " |      dictionary for instance variables (if defined)\n",
      " |  \n",
      " |  __weakref__\n",
      " |      list of weak references to the object (if defined)\n",
      "\n",
      "10-arm, Q: 0 (1, 1)             \n",
      "\n",
      "q*: [ 1.10213883 -0.24623459  0.63124161  2.2503025   0.13301564 -2.75647239\n",
      "  1.77919611 -2.08409176 -0.761904    0.04044068]\n"
     ]
    },
    {
     "data": {
      "text/plain": [
       "array([-1.24875684])"
      ]
     },
     "execution_count": 30,
     "metadata": {},
     "output_type": "execute_result"
    }
   ],
   "source": [
    "import numpy as np\n",
    "\n",
    "class Bandit:\n",
    "    \"\"\"\n",
    "    k-armed bandit\n",
    "\n",
    "        q_mean, q_var: mean, variance of normal distribution that\n",
    "                       arm rewards are drawn from.\n",
    "\n",
    "        R_var:         variance of normal, zero-mean, noise \n",
    "                       distribution added to arm reward each trial.\n",
    "    \"\"\"\n",
    "\n",
    "    def __str__(self):\n",
    "        \"\"\"\n",
    "        Print basic information about bandit. \n",
    "        \"\"\"\n",
    "        return f\"{self.k}-arm, Q: {self.q_mean} ({self.q_var}, {self.R_var}) \\\n",
    "            \\n\\nq*: {self.q_star}\"\n",
    "\n",
    "    def __init__(self, k, q_mean, q_var, R_var):\n",
    "        \"\"\"\n",
    "        Initialise and create mean arm rewards. \n",
    "        \"\"\"\n",
    "        self.k = k\n",
    "        self.q_mean = q_mean\n",
    "        self.q_var = q_var\n",
    "        self.R_var = R_var\n",
    "        self.q_star = np.random.normal(q_mean, q_var, k)\n",
    "\n",
    "    def act(self, A):\n",
    "        \"\"\" \n",
    "        Return reward value for action A.\n",
    "        \"\"\"\n",
    "        return np.random.normal(self.q_star[A], self.R_var, 1)\n",
    "\n",
    "\n",
    "#help(bandit10)\n",
    "#print(bandit10)\n",
    "bandit10 = Bandit(10, 0, 1, 1)\n",
    "bandit10.act(9)"
   ]
  }
 ],
 "metadata": {
  "kernelspec": {
   "display_name": "base",
   "language": "python",
   "name": "python3"
  },
  "language_info": {
   "codemirror_mode": {
    "name": "ipython",
    "version": 3
   },
   "file_extension": ".py",
   "mimetype": "text/x-python",
   "name": "python",
   "nbconvert_exporter": "python",
   "pygments_lexer": "ipython3",
   "version": "3.9.13"
  }
 },
 "nbformat": 4,
 "nbformat_minor": 2
}
